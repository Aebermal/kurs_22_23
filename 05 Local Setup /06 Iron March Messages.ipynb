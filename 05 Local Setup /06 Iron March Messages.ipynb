{
 "cells": [
  {
   "cell_type": "markdown",
   "id": "1bbf5f98",
   "metadata": {},
   "source": [
    "## 20'000 Meldungen aus dem Iron March Message Board"
   ]
  },
  {
   "cell_type": "code",
   "execution_count": null,
   "id": "a8ffd353",
   "metadata": {},
   "outputs": [],
   "source": [
    "Aufgabe. Erstelle ein .csv File bestehend aus "
   ]
  },
  {
   "cell_type": "markdown",
   "id": "637e85e9",
   "metadata": {},
   "source": [
    "1. Welche Libraries willst Du importieren?"
   ]
  },
  {
   "cell_type": "code",
   "execution_count": null,
   "id": "c32d7d67",
   "metadata": {},
   "outputs": [],
   "source": [
    "import pandas as pd\n"
   ]
  }
 ],
 "metadata": {
  "kernelspec": {
   "display_name": "Python 3 (ipykernel)",
   "language": "python",
   "name": "python3"
  },
  "language_info": {
   "codemirror_mode": {
    "name": "ipython",
    "version": 3
   },
   "file_extension": ".py",
   "mimetype": "text/x-python",
   "name": "python",
   "nbconvert_exporter": "python",
   "pygments_lexer": "ipython3",
   "version": "3.9.7"
  }
 },
 "nbformat": 4,
 "nbformat_minor": 5
}
